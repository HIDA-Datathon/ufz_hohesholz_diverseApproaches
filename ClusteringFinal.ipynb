{
 "cells": [
  {
   "cell_type": "code",
   "execution_count": 1,
   "metadata": {},
   "outputs": [],
   "source": [
    "%load_ext autoreload\n",
    "\n",
    "%autoreload 2"
   ]
  },
  {
   "cell_type": "code",
   "execution_count": 3,
   "metadata": {},
   "outputs": [],
   "source": [
    "import pandas as pd\n",
    "import numpy as np\n",
    "import matplotlib.pyplot as plt\n",
    "import xarray as xr\n",
    "from kPOD import k_pod"
   ]
  },
  {
   "cell_type": "code",
   "execution_count": 4,
   "metadata": {},
   "outputs": [],
   "source": [
    "path = 'sm_data.nc'\n",
    "ds = xr.open_dataset(path)"
   ]
  },
  {
   "cell_type": "code",
   "execution_count": 5,
   "metadata": {},
   "outputs": [],
   "source": [
    "data = ds.transpose()"
   ]
  },
  {
   "cell_type": "code",
   "execution_count": 6,
   "metadata": {},
   "outputs": [],
   "source": [
    "def generate_test_train(data, boxes=39, sensors=6, t1=80000, t2=150000, v1=150000, v2=160000):\n",
    "    train_features = []\n",
    "    test_features = []\n",
    "    train_labels = []\n",
    "    test_labels = []\n",
    "    for i in range(boxes):\n",
    "        for j in range(sensors):\n",
    "            train_feature = pd.Series(data['moisture'][j][i][t1:t2])\n",
    "            train_label = pd.Series(data['moisture_flag'][j][i][t1:t2])\n",
    "            train_frame = { 'Feature': train_feature, 'Label': train_label }\n",
    "            train_df = pd.DataFrame(train_frame)\n",
    "            train_df.loc[train_df['Label'] != 'OK', 'Feature'] = np.nan\n",
    "            train_features.append(np.array(train_df['Feature']))\n",
    "            train_labels.append(np.array(train_df['Label']))\n",
    "            test_feature = pd.Series(data['moisture'][j][i][v1:v2])\n",
    "            test_label = pd.Series(data['moisture_flag'][j][i][v1:v2])\n",
    "            test_frame = { 'Feature': test_feature, 'Label': test_label }\n",
    "            test_df = pd.DataFrame(test_frame)\n",
    "            test_df.loc[test_df['Label'].isin(['Auto:Range','Auto:Spike', 'Auto:BattV']), 'Feature'] = np.nan\n",
    "            test_features.append(np.array(test_df['Feature']))\n",
    "            test_labels.append(np.array(test_df['Label']))\n",
    "    return train_features, train_labels, test_features, test_labels"
   ]
  },
  {
   "cell_type": "code",
   "execution_count": 11,
   "metadata": {},
   "outputs": [],
   "source": [
    "\"\"\" Data input as feature set e.g. \"\"\"\n",
    "def cov_matrix(data1):\n",
    "    m = []\n",
    "    for i in range(len(data1)):\n",
    "        row = []\n",
    "        for j in range(len(data1)):\n",
    "            if i == j:\n",
    "                row.append(0)\n",
    "            else:\n",
    "                row.append(pd.Series(data1[i]).cov(pd.Series(data1[j])))\n",
    "        m.append(row)\n",
    "    maximum = max([abs(min(np.concatenate(m))), abs(max(np.concatenate(m)))])\n",
    "    m = m / (maximum if maximum != 0 else 1)\n",
    "    return m"
   ]
  },
  {
   "cell_type": "code",
   "execution_count": 8,
   "metadata": {},
   "outputs": [],
   "source": [
    "train_fs, train_ls, test_fs, test_ls = generate_test_train(data)"
   ]
  },
  {
   "cell_type": "code",
   "execution_count": 7,
   "metadata": {},
   "outputs": [],
   "source": [
    "k_size = 8"
   ]
  },
  {
   "cell_type": "code",
   "execution_count": 13,
   "metadata": {},
   "outputs": [],
   "source": [
    "clustering_results = k_pod(train_fs, k_size)"
   ]
  },
  {
   "cell_type": "code",
   "execution_count": 10,
   "metadata": {},
   "outputs": [],
   "source": [
    "def cluster_lookup(clustering_results1):\n",
    "    cluster_lookup = {}\n",
    "    for i in range(len(clustering_results1[0])):\n",
    "        index = int(clustering_results1[0][i])\n",
    "        if index not in cluster_lookup.keys():\n",
    "            cluster_lookup[index] = []\n",
    "        cluster_lookup[index].append(i)\n",
    "    return cluster_lookup"
   ]
  },
  {
   "cell_type": "code",
   "execution_count": 14,
   "metadata": {},
   "outputs": [],
   "source": [
    "cl = cluster_lookup(clustering_results)"
   ]
  }
 ],
 "metadata": {
  "kernelspec": {
   "display_name": "Python 3",
   "language": "python",
   "name": "python3"
  },
  "language_info": {
   "codemirror_mode": {
    "name": "ipython",
    "version": 3
   },
   "file_extension": ".py",
   "mimetype": "text/x-python",
   "name": "python",
   "nbconvert_exporter": "python",
   "pygments_lexer": "ipython3",
   "version": "3.6.8"
  }
 },
 "nbformat": 4,
 "nbformat_minor": 4
}
