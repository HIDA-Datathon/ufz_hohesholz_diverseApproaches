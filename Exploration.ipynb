{
 "cells": [
  {
   "cell_type": "code",
   "execution_count": 140,
   "metadata": {},
   "outputs": [],
   "source": [
    "from datetime import datetime\n",
    "import tensorflow as tf\n",
    "import keras\n",
    "import pandas as pd\n",
    "import numpy as np\n",
    "import matplotlib.pyplot as plt"
   ]
  },
  {
   "cell_type": "markdown",
   "metadata": {},
   "source": [
    "# Data prep"
   ]
  },
  {
   "cell_type": "markdown",
   "metadata": {},
   "source": [
    "Import"
   ]
  },
  {
   "cell_type": "code",
   "execution_count": 127,
   "metadata": {},
   "outputs": [
    {
     "data": {
      "text/html": [
       "<div>\n",
       "<style scoped>\n",
       "    .dataframe tbody tr th:only-of-type {\n",
       "        vertical-align: middle;\n",
       "    }\n",
       "\n",
       "    .dataframe tbody tr th {\n",
       "        vertical-align: top;\n",
       "    }\n",
       "\n",
       "    .dataframe thead th {\n",
       "        text-align: right;\n",
       "    }\n",
       "</style>\n",
       "<table border=\"1\" class=\"dataframe\">\n",
       "  <thead>\n",
       "    <tr style=\"text-align: right;\">\n",
       "      <th></th>\n",
       "      <th></th>\n",
       "      <th>Time</th>\n",
       "      <th>Box</th>\n",
       "      <th>Date.Time</th>\n",
       "      <th>SM1</th>\n",
       "      <th>SM1_Flag</th>\n",
       "      <th>Temp1</th>\n",
       "      <th>Temp1_Flag</th>\n",
       "      <th>SM2</th>\n",
       "      <th>SM2_Flag</th>\n",
       "      <th>Temp2</th>\n",
       "      <th>...</th>\n",
       "      <th>SM6_Flag</th>\n",
       "      <th>Temp6</th>\n",
       "      <th>Temp6_Flag</th>\n",
       "      <th>BattV</th>\n",
       "      <th>SM1_Depth</th>\n",
       "      <th>SM2_Depth</th>\n",
       "      <th>SM3_Depth</th>\n",
       "      <th>SM4_Depth</th>\n",
       "      <th>SM5_Depth</th>\n",
       "      <th>SM6_Depth</th>\n",
       "    </tr>\n",
       "  </thead>\n",
       "  <tbody>\n",
       "    <tr>\n",
       "      <th>1.2</th>\n",
       "      <th>2012-07-19</th>\n",
       "      <td>17:45:53</td>\n",
       "      <td>1</td>\n",
       "      <td>2012-07-19 17:45:53</td>\n",
       "      <td>-2.8240</td>\n",
       "      <td>Auto:Range</td>\n",
       "      <td>18.2580</td>\n",
       "      <td>OK</td>\n",
       "      <td>-5.9817</td>\n",
       "      <td>Auto:Range</td>\n",
       "      <td>18.2232</td>\n",
       "      <td>...</td>\n",
       "      <td>Auto:Range</td>\n",
       "      <td>18.3623</td>\n",
       "      <td>OK</td>\n",
       "      <td>3599</td>\n",
       "      <td>0.05</td>\n",
       "      <td>0.05</td>\n",
       "      <td>0.05</td>\n",
       "      <td>0.05</td>\n",
       "      <td>0.05</td>\n",
       "      <td>0.05</td>\n",
       "    </tr>\n",
       "    <tr>\n",
       "      <th>2.2</th>\n",
       "      <th>2010-10-03</th>\n",
       "      <td>02:07:00</td>\n",
       "      <td>2</td>\n",
       "      <td>2010-10-03 02:07:00</td>\n",
       "      <td>29.9656</td>\n",
       "      <td>OK</td>\n",
       "      <td>5.0416</td>\n",
       "      <td>OK</td>\n",
       "      <td>-4.8066</td>\n",
       "      <td>Auto:Range</td>\n",
       "      <td>-15.1656</td>\n",
       "      <td>...</td>\n",
       "      <td>OK</td>\n",
       "      <td>5.7372</td>\n",
       "      <td>OK</td>\n",
       "      <td>3138</td>\n",
       "      <td>0.10</td>\n",
       "      <td>0.20</td>\n",
       "      <td>0.30</td>\n",
       "      <td>0.40</td>\n",
       "      <td>0.50</td>\n",
       "      <td>0.60</td>\n",
       "    </tr>\n",
       "    <tr>\n",
       "      <th>2.3</th>\n",
       "      <th>2010-10-03</th>\n",
       "      <td>03:07:00</td>\n",
       "      <td>2</td>\n",
       "      <td>2010-10-03 03:07:00</td>\n",
       "      <td>26.1448</td>\n",
       "      <td>OK</td>\n",
       "      <td>8.4848</td>\n",
       "      <td>OK</td>\n",
       "      <td>23.7972</td>\n",
       "      <td>OK</td>\n",
       "      <td>7.7544</td>\n",
       "      <td>...</td>\n",
       "      <td>Auto:Spike</td>\n",
       "      <td>6.8154</td>\n",
       "      <td>OK</td>\n",
       "      <td>3496</td>\n",
       "      <td>0.10</td>\n",
       "      <td>0.20</td>\n",
       "      <td>0.30</td>\n",
       "      <td>0.40</td>\n",
       "      <td>0.50</td>\n",
       "      <td>0.60</td>\n",
       "    </tr>\n",
       "    <tr>\n",
       "      <th>2.4</th>\n",
       "      <th>2010-10-06</th>\n",
       "      <td>05:08:00</td>\n",
       "      <td>2</td>\n",
       "      <td>2010-10-06 05:08:00</td>\n",
       "      <td>29.7645</td>\n",
       "      <td>OK</td>\n",
       "      <td>4.9373</td>\n",
       "      <td>OK</td>\n",
       "      <td>-4.7984</td>\n",
       "      <td>Auto:Range</td>\n",
       "      <td>-15.1656</td>\n",
       "      <td>...</td>\n",
       "      <td>OK</td>\n",
       "      <td>5.7024</td>\n",
       "      <td>OK</td>\n",
       "      <td>3198</td>\n",
       "      <td>0.10</td>\n",
       "      <td>0.20</td>\n",
       "      <td>0.30</td>\n",
       "      <td>0.40</td>\n",
       "      <td>0.50</td>\n",
       "      <td>0.60</td>\n",
       "    </tr>\n",
       "    <tr>\n",
       "      <th>2.5</th>\n",
       "      <th>2010-10-10</th>\n",
       "      <td>04:09:00</td>\n",
       "      <td>2</td>\n",
       "      <td>2010-10-10 04:09:00</td>\n",
       "      <td>29.9037</td>\n",
       "      <td>OK</td>\n",
       "      <td>5.0764</td>\n",
       "      <td>OK</td>\n",
       "      <td>-4.8066</td>\n",
       "      <td>Auto:Range</td>\n",
       "      <td>-15.1656</td>\n",
       "      <td>...</td>\n",
       "      <td>OK</td>\n",
       "      <td>5.7720</td>\n",
       "      <td>OK</td>\n",
       "      <td>3209</td>\n",
       "      <td>0.10</td>\n",
       "      <td>0.20</td>\n",
       "      <td>0.30</td>\n",
       "      <td>0.40</td>\n",
       "      <td>0.50</td>\n",
       "      <td>0.60</td>\n",
       "    </tr>\n",
       "  </tbody>\n",
       "</table>\n",
       "<p>5 rows × 34 columns</p>\n",
       "</div>"
      ],
      "text/plain": [
       "                    Time  Box            Date.Time      SM1    SM1_Flag  \\\n",
       "1.2 2012-07-19  17:45:53    1  2012-07-19 17:45:53  -2.8240  Auto:Range   \n",
       "2.2 2010-10-03  02:07:00    2  2010-10-03 02:07:00  29.9656          OK   \n",
       "2.3 2010-10-03  03:07:00    2  2010-10-03 03:07:00  26.1448          OK   \n",
       "2.4 2010-10-06  05:08:00    2  2010-10-06 05:08:00  29.7645          OK   \n",
       "2.5 2010-10-10  04:09:00    2  2010-10-10 04:09:00  29.9037          OK   \n",
       "\n",
       "                  Temp1 Temp1_Flag      SM2    SM2_Flag    Temp2  ...  \\\n",
       "1.2 2012-07-19  18.2580         OK  -5.9817  Auto:Range  18.2232  ...   \n",
       "2.2 2010-10-03   5.0416         OK  -4.8066  Auto:Range -15.1656  ...   \n",
       "2.3 2010-10-03   8.4848         OK  23.7972          OK   7.7544  ...   \n",
       "2.4 2010-10-06   4.9373         OK  -4.7984  Auto:Range -15.1656  ...   \n",
       "2.5 2010-10-10   5.0764         OK  -4.8066  Auto:Range -15.1656  ...   \n",
       "\n",
       "                  SM6_Flag    Temp6 Temp6_Flag  BattV SM1_Depth  SM2_Depth  \\\n",
       "1.2 2012-07-19  Auto:Range  18.3623         OK   3599      0.05       0.05   \n",
       "2.2 2010-10-03          OK   5.7372         OK   3138      0.10       0.20   \n",
       "2.3 2010-10-03  Auto:Spike   6.8154         OK   3496      0.10       0.20   \n",
       "2.4 2010-10-06          OK   5.7024         OK   3198      0.10       0.20   \n",
       "2.5 2010-10-10          OK   5.7720         OK   3209      0.10       0.20   \n",
       "\n",
       "               SM3_Depth  SM4_Depth SM5_Depth  SM6_Depth  \n",
       "1.2 2012-07-19      0.05       0.05      0.05       0.05  \n",
       "2.2 2010-10-03      0.30       0.40      0.50       0.60  \n",
       "2.3 2010-10-03      0.30       0.40      0.50       0.60  \n",
       "2.4 2010-10-06      0.30       0.40      0.50       0.60  \n",
       "2.5 2010-10-10      0.30       0.40      0.50       0.60  \n",
       "\n",
       "[5 rows x 34 columns]"
      ]
     },
     "execution_count": 127,
     "metadata": {},
     "output_type": "execute_result"
    }
   ],
   "source": [
    "df = pd.read_csv(\"PROJECT_training2005/ufz_qc_challenge/00_data.csv\", sep=\" \")\n",
    "df.head()"
   ]
  },
  {
   "cell_type": "markdown",
   "metadata": {},
   "source": [
    "# Descriptives"
   ]
  },
  {
   "cell_type": "code",
   "execution_count": 101,
   "metadata": {},
   "outputs": [
    {
     "data": {
      "text/plain": [
       "Index(['Time', 'Box', 'Date.Time', 'SM1', 'SM1_Flag', 'Temp1', 'Temp1_Flag',\n",
       "       'SM2', 'SM2_Flag', 'Temp2', 'Temp2_Flag', 'SM3', 'SM3_Flag', 'Temp3',\n",
       "       'Temp3_Flag', 'SM4', 'SM4_Flag', 'Temp4', 'Temp4_Flag', 'SM5',\n",
       "       'SM5_Flag', 'Temp5', 'Temp5_Flag', 'SM6', 'SM6_Flag', 'Temp6',\n",
       "       'Temp6_Flag', 'BattV', 'SM1_Depth', 'SM2_Depth', 'SM3_Depth',\n",
       "       'SM4_Depth', 'SM5_Depth', 'SM6_Depth'],\n",
       "      dtype='object')"
      ]
     },
     "execution_count": 101,
     "metadata": {},
     "output_type": "execute_result"
    }
   ],
   "source": [
    "df.columns"
   ]
  },
  {
   "cell_type": "code",
   "execution_count": 108,
   "metadata": {},
   "outputs": [
    {
     "data": {
      "text/plain": [
       "(6643366, 34)"
      ]
     },
     "execution_count": 108,
     "metadata": {},
     "output_type": "execute_result"
    }
   ],
   "source": [
    "df.shape"
   ]
  },
  {
   "cell_type": "code",
   "execution_count": 137,
   "metadata": {},
   "outputs": [
    {
     "data": {
      "text/plain": [
       "Time           object\n",
       "Box             int64\n",
       "Date.Time      object\n",
       "SM1           float64\n",
       "SM1_Flag       object\n",
       "Temp1         float64\n",
       "Temp1_Flag     object\n",
       "SM2           float64\n",
       "SM2_Flag       object\n",
       "Temp2         float64\n",
       "Temp2_Flag     object\n",
       "SM3           float64\n",
       "SM3_Flag       object\n",
       "Temp3         float64\n",
       "Temp3_Flag     object\n",
       "SM4           float64\n",
       "SM4_Flag       object\n",
       "Temp4         float64\n",
       "Temp4_Flag     object\n",
       "SM5           float64\n",
       "SM5_Flag       object\n",
       "Temp5         float64\n",
       "Temp5_Flag     object\n",
       "SM6           float64\n",
       "SM6_Flag       object\n",
       "Temp6         float64\n",
       "Temp6_Flag     object\n",
       "BattV           int64\n",
       "SM1_Depth     float64\n",
       "SM2_Depth     float64\n",
       "SM3_Depth     float64\n",
       "SM4_Depth     float64\n",
       "SM5_Depth     float64\n",
       "SM6_Depth     float64\n",
       "dtype: object"
      ]
     },
     "execution_count": 137,
     "metadata": {},
     "output_type": "execute_result"
    }
   ],
   "source": [
    "df.dtypes"
   ]
  },
  {
   "cell_type": "code",
   "execution_count": 138,
   "metadata": {},
   "outputs": [
    {
     "data": {
      "text/plain": [
       "1.2  2012-07-19    2012-07-19 17:45:53\n",
       "2.2  2010-10-03    2010-10-03 02:07:00\n",
       "2.3  2010-10-03    2010-10-03 03:07:00\n",
       "2.4  2010-10-06    2010-10-06 05:08:00\n",
       "2.5  2010-10-10    2010-10-10 04:09:00\n",
       "Name: Date.Time, dtype: object"
      ]
     },
     "execution_count": 138,
     "metadata": {},
     "output_type": "execute_result"
    }
   ],
   "source": [
    "mydf = df[\"Date.Time\"]\n",
    "mydf.head()"
   ]
  },
  {
   "cell_type": "code",
   "execution_count": 142,
   "metadata": {},
   "outputs": [
    {
     "data": {
      "text/plain": [
       "pandas.core.series.Series"
      ]
     },
     "execution_count": 142,
     "metadata": {},
     "output_type": "execute_result"
    }
   ],
   "source": [
    "type()"
   ]
  },
  {
   "cell_type": "code",
   "execution_count": 173,
   "metadata": {},
   "outputs": [
    {
     "ename": "TypeError",
     "evalue": "strptime() argument 1 must be str, not Series",
     "output_type": "error",
     "traceback": [
      "\u001b[0;31m---------------------------------------------------------------------------\u001b[0m",
      "\u001b[0;31mTypeError\u001b[0m                                 Traceback (most recent call last)",
      "\u001b[0;32m<ipython-input-173-defd2d11d3e4>\u001b[0m in \u001b[0;36m<module>\u001b[0;34m\u001b[0m\n\u001b[0;32m----> 1\u001b[0;31m \u001b[0mtest\u001b[0m \u001b[0;34m=\u001b[0m \u001b[0mdatetime\u001b[0m\u001b[0;34m.\u001b[0m\u001b[0mstrptime\u001b[0m\u001b[0;34m(\u001b[0m\u001b[0mdf\u001b[0m\u001b[0;34m[\u001b[0m\u001b[0;34m\"Date.Time\"\u001b[0m\u001b[0;34m]\u001b[0m\u001b[0;34m,\u001b[0m \u001b[0;34m'%Y-%m-%d %H:%M:%S'\u001b[0m\u001b[0;34m)\u001b[0m\u001b[0;34m\u001b[0m\u001b[0;34m\u001b[0m\u001b[0m\n\u001b[0m",
      "\u001b[0;31mTypeError\u001b[0m: strptime() argument 1 must be str, not Series"
     ]
    }
   ],
   "source": [
    "# test = datetime.strptime(df[\"Date.Time\"], '%Y-%m-%d %H:%M:%S')"
   ]
  },
  {
   "cell_type": "code",
   "execution_count": 130,
   "metadata": {},
   "outputs": [
    {
     "data": {
      "text/html": [
       "<div>\n",
       "<style scoped>\n",
       "    .dataframe tbody tr th:only-of-type {\n",
       "        vertical-align: middle;\n",
       "    }\n",
       "\n",
       "    .dataframe tbody tr th {\n",
       "        vertical-align: top;\n",
       "    }\n",
       "\n",
       "    .dataframe thead th {\n",
       "        text-align: right;\n",
       "    }\n",
       "</style>\n",
       "<table border=\"1\" class=\"dataframe\">\n",
       "  <thead>\n",
       "    <tr style=\"text-align: right;\">\n",
       "      <th></th>\n",
       "      <th>SM1</th>\n",
       "      <th>SM2</th>\n",
       "      <th>SM3</th>\n",
       "      <th>SM4</th>\n",
       "      <th>SM5</th>\n",
       "      <th>SM6</th>\n",
       "      <th>BattV</th>\n",
       "    </tr>\n",
       "    <tr>\n",
       "      <th>Box</th>\n",
       "      <th></th>\n",
       "      <th></th>\n",
       "      <th></th>\n",
       "      <th></th>\n",
       "      <th></th>\n",
       "      <th></th>\n",
       "      <th></th>\n",
       "    </tr>\n",
       "  </thead>\n",
       "  <tbody>\n",
       "    <tr>\n",
       "      <th>1</th>\n",
       "      <td>-2.824000</td>\n",
       "      <td>-5.981700</td>\n",
       "      <td>-6.476500</td>\n",
       "      <td>-4.578800</td>\n",
       "      <td>-9.587500</td>\n",
       "      <td>-8.584000</td>\n",
       "      <td>3599.000000</td>\n",
       "    </tr>\n",
       "    <tr>\n",
       "      <th>2</th>\n",
       "      <td>23.804532</td>\n",
       "      <td>21.011951</td>\n",
       "      <td>17.592367</td>\n",
       "      <td>18.790368</td>\n",
       "      <td>17.822814</td>\n",
       "      <td>22.649545</td>\n",
       "      <td>3390.135117</td>\n",
       "    </tr>\n",
       "    <tr>\n",
       "      <th>3</th>\n",
       "      <td>13.978607</td>\n",
       "      <td>70.130481</td>\n",
       "      <td>3.434131</td>\n",
       "      <td>20.356951</td>\n",
       "      <td>18.828403</td>\n",
       "      <td>20.321050</td>\n",
       "      <td>3295.031696</td>\n",
       "    </tr>\n",
       "    <tr>\n",
       "      <th>4</th>\n",
       "      <td>-3.201543</td>\n",
       "      <td>23.936011</td>\n",
       "      <td>28.161384</td>\n",
       "      <td>17.556279</td>\n",
       "      <td>57.092807</td>\n",
       "      <td>26.298317</td>\n",
       "      <td>3318.410948</td>\n",
       "    </tr>\n",
       "    <tr>\n",
       "      <th>5</th>\n",
       "      <td>22.797627</td>\n",
       "      <td>27.294798</td>\n",
       "      <td>25.928289</td>\n",
       "      <td>18.285917</td>\n",
       "      <td>23.102944</td>\n",
       "      <td>25.330090</td>\n",
       "      <td>3467.283452</td>\n",
       "    </tr>\n",
       "    <tr>\n",
       "      <th>6</th>\n",
       "      <td>19.573737</td>\n",
       "      <td>82.351384</td>\n",
       "      <td>17.710233</td>\n",
       "      <td>2.657540</td>\n",
       "      <td>17.008131</td>\n",
       "      <td>24.595171</td>\n",
       "      <td>3371.432262</td>\n",
       "    </tr>\n",
       "    <tr>\n",
       "      <th>7</th>\n",
       "      <td>12.866035</td>\n",
       "      <td>17.738936</td>\n",
       "      <td>14.513814</td>\n",
       "      <td>33.493449</td>\n",
       "      <td>21.780431</td>\n",
       "      <td>9.404225</td>\n",
       "      <td>3346.819942</td>\n",
       "    </tr>\n",
       "    <tr>\n",
       "      <th>8</th>\n",
       "      <td>15.780277</td>\n",
       "      <td>33.469939</td>\n",
       "      <td>16.686320</td>\n",
       "      <td>52.587197</td>\n",
       "      <td>32.900818</td>\n",
       "      <td>26.979642</td>\n",
       "      <td>3466.374055</td>\n",
       "    </tr>\n",
       "    <tr>\n",
       "      <th>9</th>\n",
       "      <td>23.598313</td>\n",
       "      <td>149.519904</td>\n",
       "      <td>35.513384</td>\n",
       "      <td>38.777024</td>\n",
       "      <td>18.670082</td>\n",
       "      <td>27.320144</td>\n",
       "      <td>3374.372984</td>\n",
       "    </tr>\n",
       "    <tr>\n",
       "      <th>10</th>\n",
       "      <td>15.331604</td>\n",
       "      <td>20.039841</td>\n",
       "      <td>38.272303</td>\n",
       "      <td>16.374643</td>\n",
       "      <td>12.946360</td>\n",
       "      <td>34.982178</td>\n",
       "      <td>3295.029728</td>\n",
       "    </tr>\n",
       "    <tr>\n",
       "      <th>11</th>\n",
       "      <td>13.755677</td>\n",
       "      <td>2.612169</td>\n",
       "      <td>11.084419</td>\n",
       "      <td>7.020074</td>\n",
       "      <td>14.986026</td>\n",
       "      <td>20.629996</td>\n",
       "      <td>3225.735409</td>\n",
       "    </tr>\n",
       "    <tr>\n",
       "      <th>12</th>\n",
       "      <td>18.066891</td>\n",
       "      <td>14.053549</td>\n",
       "      <td>23.508020</td>\n",
       "      <td>21.021160</td>\n",
       "      <td>6.819771</td>\n",
       "      <td>5.990758</td>\n",
       "      <td>3358.540038</td>\n",
       "    </tr>\n",
       "    <tr>\n",
       "      <th>13</th>\n",
       "      <td>-2.472759</td>\n",
       "      <td>6.566299</td>\n",
       "      <td>29.912073</td>\n",
       "      <td>1.936849</td>\n",
       "      <td>3.585090</td>\n",
       "      <td>21.708377</td>\n",
       "      <td>3469.263342</td>\n",
       "    </tr>\n",
       "    <tr>\n",
       "      <th>14</th>\n",
       "      <td>15.615704</td>\n",
       "      <td>33.055055</td>\n",
       "      <td>18.097272</td>\n",
       "      <td>25.750277</td>\n",
       "      <td>29.435051</td>\n",
       "      <td>30.601632</td>\n",
       "      <td>3349.186465</td>\n",
       "    </tr>\n",
       "    <tr>\n",
       "      <th>15</th>\n",
       "      <td>2.853882</td>\n",
       "      <td>19.573826</td>\n",
       "      <td>7.475747</td>\n",
       "      <td>4.977459</td>\n",
       "      <td>17.594175</td>\n",
       "      <td>45.381077</td>\n",
       "      <td>3432.273850</td>\n",
       "    </tr>\n",
       "    <tr>\n",
       "      <th>16</th>\n",
       "      <td>20.131113</td>\n",
       "      <td>22.527151</td>\n",
       "      <td>24.820703</td>\n",
       "      <td>17.521442</td>\n",
       "      <td>10.004713</td>\n",
       "      <td>20.657802</td>\n",
       "      <td>3408.110037</td>\n",
       "    </tr>\n",
       "    <tr>\n",
       "      <th>17</th>\n",
       "      <td>27.914225</td>\n",
       "      <td>24.100122</td>\n",
       "      <td>29.462822</td>\n",
       "      <td>55.773015</td>\n",
       "      <td>39.185202</td>\n",
       "      <td>19.316402</td>\n",
       "      <td>3437.419502</td>\n",
       "    </tr>\n",
       "    <tr>\n",
       "      <th>18</th>\n",
       "      <td>155.012136</td>\n",
       "      <td>60.516077</td>\n",
       "      <td>26.142251</td>\n",
       "      <td>30.580835</td>\n",
       "      <td>29.376876</td>\n",
       "      <td>18.976636</td>\n",
       "      <td>3348.753428</td>\n",
       "    </tr>\n",
       "    <tr>\n",
       "      <th>19</th>\n",
       "      <td>18.438161</td>\n",
       "      <td>15.883865</td>\n",
       "      <td>28.042066</td>\n",
       "      <td>30.644934</td>\n",
       "      <td>32.024278</td>\n",
       "      <td>46.461663</td>\n",
       "      <td>3508.917721</td>\n",
       "    </tr>\n",
       "    <tr>\n",
       "      <th>20</th>\n",
       "      <td>11.062658</td>\n",
       "      <td>13.368400</td>\n",
       "      <td>28.251800</td>\n",
       "      <td>26.785419</td>\n",
       "      <td>27.351694</td>\n",
       "      <td>25.237442</td>\n",
       "      <td>3399.387480</td>\n",
       "    </tr>\n",
       "    <tr>\n",
       "      <th>21</th>\n",
       "      <td>30.445028</td>\n",
       "      <td>28.402030</td>\n",
       "      <td>27.092999</td>\n",
       "      <td>17.454684</td>\n",
       "      <td>18.649661</td>\n",
       "      <td>17.240809</td>\n",
       "      <td>3385.120163</td>\n",
       "    </tr>\n",
       "    <tr>\n",
       "      <th>22</th>\n",
       "      <td>-5.960206</td>\n",
       "      <td>27.397660</td>\n",
       "      <td>-3.248884</td>\n",
       "      <td>29.860383</td>\n",
       "      <td>-5.048925</td>\n",
       "      <td>13.001356</td>\n",
       "      <td>3381.425103</td>\n",
       "    </tr>\n",
       "    <tr>\n",
       "      <th>23</th>\n",
       "      <td>20.734152</td>\n",
       "      <td>22.763832</td>\n",
       "      <td>17.565056</td>\n",
       "      <td>20.032711</td>\n",
       "      <td>21.230553</td>\n",
       "      <td>20.392744</td>\n",
       "      <td>3354.170809</td>\n",
       "    </tr>\n",
       "    <tr>\n",
       "      <th>24</th>\n",
       "      <td>13.187170</td>\n",
       "      <td>22.081767</td>\n",
       "      <td>29.469251</td>\n",
       "      <td>31.695816</td>\n",
       "      <td>33.353273</td>\n",
       "      <td>29.615070</td>\n",
       "      <td>3430.871956</td>\n",
       "    </tr>\n",
       "    <tr>\n",
       "      <th>25</th>\n",
       "      <td>26.734931</td>\n",
       "      <td>21.417445</td>\n",
       "      <td>22.238571</td>\n",
       "      <td>18.041581</td>\n",
       "      <td>20.541205</td>\n",
       "      <td>20.361788</td>\n",
       "      <td>3414.585425</td>\n",
       "    </tr>\n",
       "    <tr>\n",
       "      <th>26</th>\n",
       "      <td>21.580135</td>\n",
       "      <td>23.995737</td>\n",
       "      <td>14.501189</td>\n",
       "      <td>5.431150</td>\n",
       "      <td>21.360983</td>\n",
       "      <td>38.266106</td>\n",
       "      <td>3419.588373</td>\n",
       "    </tr>\n",
       "    <tr>\n",
       "      <th>27</th>\n",
       "      <td>-9.432899</td>\n",
       "      <td>32.522477</td>\n",
       "      <td>15.962916</td>\n",
       "      <td>-6.893366</td>\n",
       "      <td>15.290091</td>\n",
       "      <td>15.928472</td>\n",
       "      <td>3337.317310</td>\n",
       "    </tr>\n",
       "    <tr>\n",
       "      <th>28</th>\n",
       "      <td>21.823107</td>\n",
       "      <td>21.912450</td>\n",
       "      <td>15.889984</td>\n",
       "      <td>8.362977</td>\n",
       "      <td>20.521101</td>\n",
       "      <td>15.231048</td>\n",
       "      <td>3354.720888</td>\n",
       "    </tr>\n",
       "    <tr>\n",
       "      <th>29</th>\n",
       "      <td>-7.828578</td>\n",
       "      <td>-5.185042</td>\n",
       "      <td>17.576249</td>\n",
       "      <td>29.362297</td>\n",
       "      <td>15.196341</td>\n",
       "      <td>1.529101</td>\n",
       "      <td>3472.459683</td>\n",
       "    </tr>\n",
       "    <tr>\n",
       "      <th>30</th>\n",
       "      <td>11.622159</td>\n",
       "      <td>31.557770</td>\n",
       "      <td>35.708014</td>\n",
       "      <td>17.431305</td>\n",
       "      <td>29.003376</td>\n",
       "      <td>59.742306</td>\n",
       "      <td>3421.201193</td>\n",
       "    </tr>\n",
       "    <tr>\n",
       "      <th>31</th>\n",
       "      <td>19.223735</td>\n",
       "      <td>21.798362</td>\n",
       "      <td>5.427896</td>\n",
       "      <td>34.970597</td>\n",
       "      <td>12.492514</td>\n",
       "      <td>29.697072</td>\n",
       "      <td>3380.088368</td>\n",
       "    </tr>\n",
       "    <tr>\n",
       "      <th>32</th>\n",
       "      <td>9.705263</td>\n",
       "      <td>6.099220</td>\n",
       "      <td>13.509243</td>\n",
       "      <td>10.615940</td>\n",
       "      <td>24.964061</td>\n",
       "      <td>15.098824</td>\n",
       "      <td>3441.480053</td>\n",
       "    </tr>\n",
       "    <tr>\n",
       "      <th>33</th>\n",
       "      <td>31.949395</td>\n",
       "      <td>26.072251</td>\n",
       "      <td>21.588921</td>\n",
       "      <td>9.310433</td>\n",
       "      <td>10.340384</td>\n",
       "      <td>-3.143042</td>\n",
       "      <td>3214.727240</td>\n",
       "    </tr>\n",
       "    <tr>\n",
       "      <th>34</th>\n",
       "      <td>33.654786</td>\n",
       "      <td>31.293672</td>\n",
       "      <td>17.656741</td>\n",
       "      <td>16.452902</td>\n",
       "      <td>20.541012</td>\n",
       "      <td>29.354271</td>\n",
       "      <td>3416.103597</td>\n",
       "    </tr>\n",
       "    <tr>\n",
       "      <th>35</th>\n",
       "      <td>21.890379</td>\n",
       "      <td>11.548821</td>\n",
       "      <td>7.714813</td>\n",
       "      <td>17.768453</td>\n",
       "      <td>24.044190</td>\n",
       "      <td>6.951299</td>\n",
       "      <td>3378.343643</td>\n",
       "    </tr>\n",
       "    <tr>\n",
       "      <th>36</th>\n",
       "      <td>11.536818</td>\n",
       "      <td>26.930011</td>\n",
       "      <td>15.406204</td>\n",
       "      <td>5.352870</td>\n",
       "      <td>22.984052</td>\n",
       "      <td>11.371131</td>\n",
       "      <td>3432.366748</td>\n",
       "    </tr>\n",
       "    <tr>\n",
       "      <th>37</th>\n",
       "      <td>22.190958</td>\n",
       "      <td>-3.083981</td>\n",
       "      <td>10.022276</td>\n",
       "      <td>22.165425</td>\n",
       "      <td>5.590768</td>\n",
       "      <td>-11.393546</td>\n",
       "      <td>3312.837340</td>\n",
       "    </tr>\n",
       "    <tr>\n",
       "      <th>38</th>\n",
       "      <td>55.464298</td>\n",
       "      <td>-4.214368</td>\n",
       "      <td>13.175378</td>\n",
       "      <td>8.995749</td>\n",
       "      <td>-3.374836</td>\n",
       "      <td>18.513899</td>\n",
       "      <td>3434.095526</td>\n",
       "    </tr>\n",
       "    <tr>\n",
       "      <th>39</th>\n",
       "      <td>10.488132</td>\n",
       "      <td>13.933996</td>\n",
       "      <td>12.000557</td>\n",
       "      <td>2.706695</td>\n",
       "      <td>37.082950</td>\n",
       "      <td>-8.625831</td>\n",
       "      <td>3309.461892</td>\n",
       "    </tr>\n",
       "    <tr>\n",
       "      <th>40</th>\n",
       "      <td>5.884224</td>\n",
       "      <td>15.687148</td>\n",
       "      <td>-1.529316</td>\n",
       "      <td>-7.509316</td>\n",
       "      <td>-5.401608</td>\n",
       "      <td>33.303331</td>\n",
       "      <td>3278.620206</td>\n",
       "    </tr>\n",
       "  </tbody>\n",
       "</table>\n",
       "</div>"
      ],
      "text/plain": [
       "            SM1         SM2        SM3        SM4        SM5        SM6  \\\n",
       "Box                                                                       \n",
       "1     -2.824000   -5.981700  -6.476500  -4.578800  -9.587500  -8.584000   \n",
       "2     23.804532   21.011951  17.592367  18.790368  17.822814  22.649545   \n",
       "3     13.978607   70.130481   3.434131  20.356951  18.828403  20.321050   \n",
       "4     -3.201543   23.936011  28.161384  17.556279  57.092807  26.298317   \n",
       "5     22.797627   27.294798  25.928289  18.285917  23.102944  25.330090   \n",
       "6     19.573737   82.351384  17.710233   2.657540  17.008131  24.595171   \n",
       "7     12.866035   17.738936  14.513814  33.493449  21.780431   9.404225   \n",
       "8     15.780277   33.469939  16.686320  52.587197  32.900818  26.979642   \n",
       "9     23.598313  149.519904  35.513384  38.777024  18.670082  27.320144   \n",
       "10    15.331604   20.039841  38.272303  16.374643  12.946360  34.982178   \n",
       "11    13.755677    2.612169  11.084419   7.020074  14.986026  20.629996   \n",
       "12    18.066891   14.053549  23.508020  21.021160   6.819771   5.990758   \n",
       "13    -2.472759    6.566299  29.912073   1.936849   3.585090  21.708377   \n",
       "14    15.615704   33.055055  18.097272  25.750277  29.435051  30.601632   \n",
       "15     2.853882   19.573826   7.475747   4.977459  17.594175  45.381077   \n",
       "16    20.131113   22.527151  24.820703  17.521442  10.004713  20.657802   \n",
       "17    27.914225   24.100122  29.462822  55.773015  39.185202  19.316402   \n",
       "18   155.012136   60.516077  26.142251  30.580835  29.376876  18.976636   \n",
       "19    18.438161   15.883865  28.042066  30.644934  32.024278  46.461663   \n",
       "20    11.062658   13.368400  28.251800  26.785419  27.351694  25.237442   \n",
       "21    30.445028   28.402030  27.092999  17.454684  18.649661  17.240809   \n",
       "22    -5.960206   27.397660  -3.248884  29.860383  -5.048925  13.001356   \n",
       "23    20.734152   22.763832  17.565056  20.032711  21.230553  20.392744   \n",
       "24    13.187170   22.081767  29.469251  31.695816  33.353273  29.615070   \n",
       "25    26.734931   21.417445  22.238571  18.041581  20.541205  20.361788   \n",
       "26    21.580135   23.995737  14.501189   5.431150  21.360983  38.266106   \n",
       "27    -9.432899   32.522477  15.962916  -6.893366  15.290091  15.928472   \n",
       "28    21.823107   21.912450  15.889984   8.362977  20.521101  15.231048   \n",
       "29    -7.828578   -5.185042  17.576249  29.362297  15.196341   1.529101   \n",
       "30    11.622159   31.557770  35.708014  17.431305  29.003376  59.742306   \n",
       "31    19.223735   21.798362   5.427896  34.970597  12.492514  29.697072   \n",
       "32     9.705263    6.099220  13.509243  10.615940  24.964061  15.098824   \n",
       "33    31.949395   26.072251  21.588921   9.310433  10.340384  -3.143042   \n",
       "34    33.654786   31.293672  17.656741  16.452902  20.541012  29.354271   \n",
       "35    21.890379   11.548821   7.714813  17.768453  24.044190   6.951299   \n",
       "36    11.536818   26.930011  15.406204   5.352870  22.984052  11.371131   \n",
       "37    22.190958   -3.083981  10.022276  22.165425   5.590768 -11.393546   \n",
       "38    55.464298   -4.214368  13.175378   8.995749  -3.374836  18.513899   \n",
       "39    10.488132   13.933996  12.000557   2.706695  37.082950  -8.625831   \n",
       "40     5.884224   15.687148  -1.529316  -7.509316  -5.401608  33.303331   \n",
       "\n",
       "           BattV  \n",
       "Box               \n",
       "1    3599.000000  \n",
       "2    3390.135117  \n",
       "3    3295.031696  \n",
       "4    3318.410948  \n",
       "5    3467.283452  \n",
       "6    3371.432262  \n",
       "7    3346.819942  \n",
       "8    3466.374055  \n",
       "9    3374.372984  \n",
       "10   3295.029728  \n",
       "11   3225.735409  \n",
       "12   3358.540038  \n",
       "13   3469.263342  \n",
       "14   3349.186465  \n",
       "15   3432.273850  \n",
       "16   3408.110037  \n",
       "17   3437.419502  \n",
       "18   3348.753428  \n",
       "19   3508.917721  \n",
       "20   3399.387480  \n",
       "21   3385.120163  \n",
       "22   3381.425103  \n",
       "23   3354.170809  \n",
       "24   3430.871956  \n",
       "25   3414.585425  \n",
       "26   3419.588373  \n",
       "27   3337.317310  \n",
       "28   3354.720888  \n",
       "29   3472.459683  \n",
       "30   3421.201193  \n",
       "31   3380.088368  \n",
       "32   3441.480053  \n",
       "33   3214.727240  \n",
       "34   3416.103597  \n",
       "35   3378.343643  \n",
       "36   3432.366748  \n",
       "37   3312.837340  \n",
       "38   3434.095526  \n",
       "39   3309.461892  \n",
       "40   3278.620206  "
      ]
     },
     "execution_count": 130,
     "metadata": {},
     "output_type": "execute_result"
    }
   ],
   "source": [
    "df[[\"Date.Time\", \"Box\", \"SM1\", \"SM2\", \"SM3\", \"SM4\", \"SM5\", \"SM6\", \"BattV\"]].groupby(['Box']).mean()"
   ]
  },
  {
   "cell_type": "markdown",
   "metadata": {},
   "source": [
    "## Missing values"
   ]
  },
  {
   "cell_type": "markdown",
   "metadata": {},
   "source": [
    "# Visualize"
   ]
  },
  {
   "cell_type": "markdown",
   "metadata": {},
   "source": [
    "Lifetime of a Box"
   ]
  },
  {
   "cell_type": "code",
   "execution_count": 168,
   "metadata": {},
   "outputs": [
    {
     "data": {
      "text/plain": [
       "(0, 100)"
      ]
     },
     "execution_count": 168,
     "metadata": {},
     "output_type": "execute_result"
    },
    {
     "data": {
      "image/png": "[encoded data removed]",
      "text/plain": [
       "<Figure size 432x288 with 1 Axes>"
      ]
     },
     "metadata": {
      "needs_background": "light"
     },
     "output_type": "display_data"
    }
   ],
   "source": [
    "mydf = df[(df[\"Box\"]==8)]\n",
    "y = mydf[\"SM1\"]\n",
    "# plt.plot(mydf[\"Date.Time\"], mydf[\"SM1\"])\n",
    "# plt.show()\n",
    "\n",
    "ax = pd.Series(y).plot()\n",
    "ax.set_ylim(0, 100)"
   ]
  },
  {
   "cell_type": "code",
   "execution_count": 182,
   "metadata": {},
   "outputs": [
    {
     "data": {
      "text/plain": [
       "(0, 100)"
      ]
     },
     "execution_count": 182,
     "metadata": {},
     "output_type": "execute_result"
    },
    {
     "data": {
      "image/png": "[encoded data removed]",
      "text/plain": [
       "<Figure size 432x288 with 1 Axes>"
      ]
     },
     "metadata": {
      "needs_background": "light"
     },
     "output_type": "display_data"
    }
   ],
   "source": [
    "mydf = df[(df[\"Box\"]==8)]\n",
    "y1 = pd.Series(mydf[\"SM1\"])\n",
    "# plt.plot(mydf[\"Date.Time\"], mydf[\"SM1\"])\n",
    "# plt.show()\n",
    "\n",
    "ax = y1.plot()\n",
    "ax.set_ylim(0, 100)"
   ]
  },
  {
   "cell_type": "code",
   "execution_count": 215,
   "metadata": {},
   "outputs": [
    {
     "name": "stderr",
     "output_type": "stream",
     "text": [
      "/p/software/jusuf/stages/Devel-2019a/software/SciPy-Stack/2019a.1-gcccoremkl-8.3.0-2019.3.199-Python-3.6.8/lib/python3.6/site-packages/matplotlib-3.0.3-py3.6-linux-x86_64.egg/matplotlib/cbook/__init__.py:1377: FutureWarning: Support for multi-dimensional indexing (e.g. `obj[:, None]`) is deprecated and will be removed in a future version.  Convert to a numpy array before indexing instead.\n",
      "  x[:, None]\n",
      "/p/software/jusuf/stages/Devel-2019a/software/SciPy-Stack/2019a.1-gcccoremkl-8.3.0-2019.3.199-Python-3.6.8/lib/python3.6/site-packages/matplotlib-3.0.3-py3.6-linux-x86_64.egg/matplotlib/axes/_base.py:237: FutureWarning: Support for multi-dimensional indexing (e.g. `obj[:, None]`) is deprecated and will be removed in a future version.  Convert to a numpy array before indexing instead.\n",
      "  x = x[:, np.newaxis]\n",
      "/p/software/jusuf/stages/Devel-2019a/software/SciPy-Stack/2019a.1-gcccoremkl-8.3.0-2019.3.199-Python-3.6.8/lib/python3.6/site-packages/matplotlib-3.0.3-py3.6-linux-x86_64.egg/matplotlib/axes/_base.py:239: FutureWarning: Support for multi-dimensional indexing (e.g. `obj[:, None]`) is deprecated and will be removed in a future version.  Convert to a numpy array before indexing instead.\n",
      "  y = y[:, np.newaxis]\n"
     ]
    },
    {
     "data": {
      "image/png": "[encoded data removed]",
      "text/plain": [
       "<Figure size 432x288 with 1 Axes>"
      ]
     },
     "metadata": {
      "needs_background": "light"
     },
     "output_type": "display_data"
    }
   ],
   "source": [
    "mydf = df[[\"Box\", \"SM1\", \"SM2\", \"SM3\", \"SM4\", \"SM5\", \"SM6\", \"BattV\"]]\n",
    "mydf = df[(df[\"Box\"]==3)]\n",
    "Columns = [\"SM1\", \"SM2\", \"SM3\", \"SM4\", \"SM5\", \"SM6\"]\n",
    "x = mydf[\"BattV\"]\n",
    "\n",
    "for i in range(0, 6):\n",
    "    y = mydf[Columns[i]]\n",
    "    plt.plot(x, y)\n",
    "# plt.axis([0, 3600, -10, 100])\n",
    "plt.show()"
   ]
  },
  {
   "cell_type": "markdown",
   "metadata": {},
   "source": [
    "Box 3 with Histogram of SM's"
   ]
  },
  {
   "cell_type": "code",
   "execution_count": 228,
   "metadata": {},
   "outputs": [
    {
     "name": "stderr",
     "output_type": "stream",
     "text": [
      "/p/software/jusuf/stages/Devel-2019a/software/SciPy-Stack/2019a.1-gcccoremkl-8.3.0-2019.3.199-Python-3.6.8/lib/python3.6/site-packages/numpy-1.17.5-py3.6-linux-x86_64.egg/numpy/lib/histograms.py:839: RuntimeWarning: invalid value encountered in greater_equal\n",
      "  keep = (tmp_a >= first_edge)\n",
      "/p/software/jusuf/stages/Devel-2019a/software/SciPy-Stack/2019a.1-gcccoremkl-8.3.0-2019.3.199-Python-3.6.8/lib/python3.6/site-packages/numpy-1.17.5-py3.6-linux-x86_64.egg/numpy/lib/histograms.py:840: RuntimeWarning: invalid value encountered in less_equal\n",
      "  keep &= (tmp_a <= last_edge)\n"
     ]
    },
    {
     "data": {
      "text/plain": [
       "(array([1.0270e+03, 6.2440e+03, 7.5960e+03, 1.8963e+04, 4.3851e+04,\n",
       "        2.8361e+04, 4.8100e+02, 1.6000e+01, 2.0000e+00, 3.0000e+00,\n",
       "        1.0000e+00, 1.0000e+00, 1.5000e+01, 9.4000e+01, 3.7200e+02,\n",
       "        2.6000e+01, 2.0000e+00, 1.0000e+00, 0.0000e+00, 0.0000e+00,\n",
       "        0.0000e+00, 0.0000e+00, 0.0000e+00, 0.0000e+00, 0.0000e+00,\n",
       "        0.0000e+00, 0.0000e+00, 0.0000e+00, 0.0000e+00, 0.0000e+00,\n",
       "        1.0000e+00, 0.0000e+00, 0.0000e+00, 0.0000e+00, 0.0000e+00,\n",
       "        0.0000e+00, 0.0000e+00, 0.0000e+00, 0.0000e+00, 0.0000e+00,\n",
       "        0.0000e+00, 0.0000e+00, 0.0000e+00, 0.0000e+00, 0.0000e+00,\n",
       "        0.0000e+00, 0.0000e+00, 0.0000e+00, 0.0000e+00, 0.0000e+00,\n",
       "        0.0000e+00, 0.0000e+00, 0.0000e+00, 0.0000e+00, 0.0000e+00,\n",
       "        0.0000e+00, 0.0000e+00, 1.0000e+00, 0.0000e+00, 0.0000e+00]),\n",
       " array([  0.,   5.,  10.,  15.,  20.,  25.,  30.,  35.,  40.,  45.,  50.,\n",
       "         55.,  60.,  65.,  70.,  75.,  80.,  85.,  90.,  95., 100., 105.,\n",
       "        110., 115., 120., 125., 130., 135., 140., 145., 150., 155., 160.,\n",
       "        165., 170., 175., 180., 185., 190., 195., 200., 205., 210., 215.,\n",
       "        220., 225., 230., 235., 240., 245., 250., 255., 260., 265., 270.,\n",
       "        275., 280., 285., 290., 295., 300.]),\n",
       " <a list of 60 Patch objects>)"
      ]
     },
     "execution_count": 228,
     "metadata": {},
     "output_type": "execute_result"
    },
    {
     "name": "stderr",
     "output_type": "stream",
     "text": [
      "/p/software/jusuf/stages/Devel-2019a/software/SciPy-Stack/2019a.1-gcccoremkl-8.3.0-2019.3.199-Python-3.6.8/lib/python3.6/site-packages/matplotlib-3.0.3-py3.6-linux-x86_64.egg/matplotlib/figure.py:2369: UserWarning: This figure includes Axes that are not compatible with tight_layout, so results might be incorrect.\n",
      "  warnings.warn(\"This figure includes Axes that are not compatible \"\n"
     ]
    },
    {
     "data": {
      "image/png": "[encoded data removed]",
      "text/plain": [
       "<Figure size 432x288 with 6 Axes>"
      ]
     },
     "metadata": {
      "needs_background": "light"
     },
     "output_type": "display_data"
    }
   ],
   "source": [
    "n_bins = 60\n",
    "myrange = [0, 300]\n",
    "mydf = df[(df[\"Box\"]==3)]\n",
    "fig, axs = plt.subplots(3, 2, sharey=True, tight_layout=True)\n",
    "\n",
    "axs[0, 0].hist(mydf[\"SM\"+str(1)], bins=n_bins, range=myrange)\n",
    "axs[1, 0].hist(mydf[\"SM\"+str(2)], bins=n_bins, range=myrange)\n",
    "axs[2, 0].hist(mydf[\"SM\"+str(3)], bins=n_bins, range=myrange)\n",
    "axs[0, 1].hist(mydf[\"SM\"+str(4)], bins=n_bins, range=myrange)\n",
    "axs[1, 1].hist(mydf[\"SM\"+str(5)], bins=n_bins, range=myrange)\n",
    "axs[2, 1].hist(mydf[\"SM\"+str(6)], bins=n_bins, range=myrange)"
   ]
  },
  {
   "cell_type": "code",
   "execution_count": 231,
   "metadata": {},
   "outputs": [
    {
     "name": "stderr",
     "output_type": "stream",
     "text": [
      "/p/software/jusuf/stages/Devel-2019a/software/SciPy-Stack/2019a.1-gcccoremkl-8.3.0-2019.3.199-Python-3.6.8/lib/python3.6/site-packages/numpy-1.17.5-py3.6-linux-x86_64.egg/numpy/lib/histograms.py:839: RuntimeWarning: invalid value encountered in greater_equal\n",
      "  keep = (tmp_a >= first_edge)\n",
      "/p/software/jusuf/stages/Devel-2019a/software/SciPy-Stack/2019a.1-gcccoremkl-8.3.0-2019.3.199-Python-3.6.8/lib/python3.6/site-packages/numpy-1.17.5-py3.6-linux-x86_64.egg/numpy/lib/histograms.py:840: RuntimeWarning: invalid value encountered in less_equal\n",
      "  keep &= (tmp_a <= last_edge)\n"
     ]
    },
    {
     "data": {
      "image/png": "[encoded data removed]",
      "text/plain": [
       "<Figure size 432x288 with 1 Axes>"
      ]
     },
     "metadata": {
      "needs_background": "light"
     },
     "output_type": "display_data"
    },
    {
     "data": {
      "image/png": "[encoded data removed]",
      "text/plain": [
       "<Figure size 432x288 with 1 Axes>"
      ]
     },
     "metadata": {
      "needs_background": "light"
     },
     "output_type": "display_data"
    },
    {
     "data": {
      "image/png": "[encoded data removed]",
      "text/plain": [
       "<Figure size 432x288 with 1 Axes>"
      ]
     },
     "metadata": {
      "needs_background": "light"
     },
     "output_type": "display_data"
    },
    {
     "data": {
      "image/png": "[encoded data removed]",
      "text/plain": [
       "<Figure size 432x288 with 1 Axes>"
      ]
     },
     "metadata": {
      "needs_background": "light"
     },
     "output_type": "display_data"
    },
    {
     "data": {
      "image/png": "[encoded data removed]",
      "text/plain": [
       "<Figure size 432x288 with 1 Axes>"
      ]
     },
     "metadata": {
      "needs_background": "light"
     },
     "output_type": "display_data"
    },
    {
     "data": {
      "image/png": "[encoded data removed]",
      "text/plain": [
       "<Figure size 432x288 with 1 Axes>"
      ]
     },
     "metadata": {
      "needs_background": "light"
     },
     "output_type": "display_data"
    }
   ],
   "source": [
    "mydf = df[(df[\"Box\"]==3)]\n",
    "Columns = [\"SM1\", \"SM2\", \"SM3\", \"SM4\", \"SM5\", \"SM6\"]\n",
    "\n",
    "n_bins = 60\n",
    "\n",
    "for i in range(0,6):\n",
    "    plt.hist(mydf[Columns[i]],  bins=n_bins, range=[0, 300])\n",
    "    plt.title(Columns[i])\n",
    "    plt.xlabel(\"Values\")\n",
    "    plt.ylabel(\"Frequency\")\n",
    "    plt.show()"
   ]
  }
 ],
 "metadata": {
  "kernelspec": {
   "display_name": "datathon",
   "language": "python",
   "name": "datathon"
  },
  "language_info": {
   "codemirror_mode": {
    "name": "ipython",
    "version": 3
   },
   "file_extension": ".py",
   "mimetype": "text/x-python",
   "name": "python",
   "nbconvert_exporter": "python",
   "pygments_lexer": "ipython3",
   "version": "3.6.8"
  }
 },
 "nbformat": 4,
 "nbformat_minor": 4
}
